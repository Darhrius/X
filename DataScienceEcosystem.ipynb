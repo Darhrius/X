{
 "cells": [
  {
   "cell_type": "markdown",
   "id": "407b8028-68fe-4044-82e7-bb488eebb425",
   "metadata": {},
   "source": [
    "# Data Science Tools and Ecosystem"
   ]
  },
  {
   "cell_type": "markdown",
   "id": "3bfb6641-54fe-424d-ab28-e8a2e07ced2d",
   "metadata": {},
   "source": [
    "In this notebook, Data Science Tools and Ecosystem are summarized."
   ]
  },
  {
   "cell_type": "markdown",
   "id": "60a312dc-deba-4dba-96e0-11f6353ed919",
   "metadata": {},
   "source": [
    "Objectives\n",
    "\n",
    "* List popular languages for Data Science\n",
    "* List popular libraries for Data Scientists\n",
    "* List some popular Data Science Open source tools"
   ]
  },
  {
   "cell_type": "markdown",
   "id": "87b4f490-dcd0-4c22-bd59-2cc1d6e166c2",
   "metadata": {},
   "source": [
    "Some of the popular languages that Data Scientists use are:\n",
    "\n",
    "1. Python\n",
    "2. R\n",
    "3. SQL\n",
    "4. Scala\n",
    "5. Java"
   ]
  },
  {
   "cell_type": "markdown",
   "id": "a8318be5-3429-429e-8b7f-09f97c5998c8",
   "metadata": {
    "tags": []
   },
   "source": [
    "Some of the commonly used libraries used by Data Scientists include:\n",
    "\n",
    "1. Pandas\n",
    "2. Numpy\n",
    "3. Matplotlib\n",
    "4. Seaborn\n",
    "5. Scikit-learn"
   ]
  },
  {
   "cell_type": "markdown",
   "id": "2c5b2704-7f98-4389-a0b4-12e4e45d96e2",
   "metadata": {
    "tags": []
   },
   "source": [
    "| Data Science Tools | \n",
    "| --- | \n",
    "| Jupyter Notebook | \n",
    "| R Studio |\n",
    "| IBM Watson Studio |"
   ]
  },
  {
   "cell_type": "markdown",
   "id": "35bc3928-eb27-4ecd-bba3-ef6de32b027e",
   "metadata": {},
   "source": [
    "### Below are a few examples of evaluating arithmetic expressions in Python"
   ]
  },
  {
   "cell_type": "code",
   "execution_count": 1,
   "id": "3ef5dba4-2afe-42be-a082-438c5eef04b1",
   "metadata": {
    "tags": []
   },
   "outputs": [
    {
     "data": {
      "text/plain": [
       "17"
      ]
     },
     "execution_count": 1,
     "metadata": {},
     "output_type": "execute_result"
    }
   ],
   "source": [
    "(3*4)+5"
   ]
  },
  {
   "cell_type": "code",
   "execution_count": 7,
   "id": "7a401d17-77b0-43b3-8413-c239f97ff165",
   "metadata": {
    "tags": []
   },
   "outputs": [
    {
     "data": {
      "text/plain": [
       "3.3333333333333335"
      ]
     },
     "execution_count": 7,
     "metadata": {},
     "output_type": "execute_result"
    }
   ],
   "source": [
    "200/60 #This will convert 200 minutes to hours by dividing by 60 "
   ]
  },
  {
   "cell_type": "markdown",
   "id": "145e31f6",
   "metadata": {},
   "source": [
    "## Author\n",
    "\n",
    "Victory Isado\n",
    "\n"
   ]
  },
  {
   "cell_type": "code",
   "execution_count": null,
   "id": "7ecae410",
   "metadata": {},
   "outputs": [],
   "source": []
  }
 ],
 "metadata": {
  "kernelspec": {
   "display_name": "Python 3 (ipykernel)",
   "language": "python",
   "name": "python3"
  },
  "language_info": {
   "codemirror_mode": {
    "name": "ipython",
    "version": 3
   },
   "file_extension": ".py",
   "mimetype": "text/x-python",
   "name": "python",
   "nbconvert_exporter": "python",
   "pygments_lexer": "ipython3",
   "version": "3.9.12"
  }
 },
 "nbformat": 4,
 "nbformat_minor": 5
}
